{
 "cells": [
  {
   "cell_type": "markdown",
   "metadata": {},
   "source": [
    "# Recognizing Distributions Topical Review"
   ]
  },
  {
   "cell_type": "markdown",
   "metadata": {},
   "source": [
    "## A. Warm-up"
   ]
  },
  {
   "cell_type": "markdown",
   "metadata": {},
   "source": [
    "**1.**\n",
    "\n",
    "**(a)** Chandana rolls a flattened die 1000 times. The probability of getting the face with six spots is not 0.005. Let T be the distribution of number of times the face with six spots appears. Find the exact distribution of T and an approximated distribution of T. \n",
    "\n",
    "**(b)** N ~ $Poisson(\\mu)$. Eric rolls a standard die N times. Let X be the number of times the face with six spots appears. Find the distribution of X. Is your answer the exact distribution, or an approximation?\n"
   ]
  },
  {
   "cell_type": "markdown",
   "metadata": {},
   "source": [
    "**2. A standard deck of 52 cards consists of four suits (spades, clubs, hearts, and diamonds). Each suite has 13 cards. Find the distribution of each random variable below.**\n",
    "\n",
    "**(a)** A hand of 12 cards is dealt at random with replacement from the deck. Let X be the number of cards of suite spade. \n",
    "\n",
    "**(b)** A hand of 12 cards is dealt at random without replacement from the deck. Let Y be the number of cards of suite spade. \n",
    "\n",
    "**(c)** Shazar draws cards at random with replacement one by one. Let Z be the number of cards he draws until he gets a spade card.\n",
    "\n",
    "**(d)** Huiyi draws a hand of Poisson(12) cards at random with replacement. Let \n",
    "- S be the number of spade cards she gets\n",
    "- C: number of club cards\n",
    "- H: number of heart cards\n",
    "- D: number of diamond cards. \n",
    "\n",
    "Find the joint distribution of S, C, H, D. \n"
   ]
  },
  {
   "cell_type": "markdown",
   "metadata": {},
   "source": [
    "__*After you are done with the warm-up questions, check the brief answers at the end of this page.*__"
   ]
  },
  {
   "cell_type": "markdown",
   "metadata": {},
   "source": [
    "## B. Exam-style question"
   ]
  },
  {
   "cell_type": "markdown",
   "metadata": {},
   "source": [
    "**1. You see N birds where N has the Poisson (15) distribution. Each bird is green with chance 0.5, yellow with chance 0.25, purple with chance 0.15, and red with chance 0.1, independently of the number and colors of other birds.**\n",
    "\n",
    "**Find the chance that you see at most three birds of each color.**"
   ]
  },
  {
   "cell_type": "markdown",
   "metadata": {},
   "source": [
    "__*After you are done with this question, check the walk-through video [here](https://berkeley.zoom.us/rec/play/PSimlMweIw8ts9838NFzuZyjSzvtLa3uuIZIjJqf8n_9XBn4TX0AKDqCHtDV-APWEPAXkmg7W_PFA88g.gnOwa_tpgEVoLmW9).*__"
   ]
  },
  {
   "cell_type": "markdown",
   "metadata": {},
   "source": [
    "**2. A student is asking a Prob 140 GSI about the following exercise.**\n",
    "\n",
    "**“In a population of v = u+d voters, u are undecided but the remaining d voters have decided how they will vote. If a simple random sample of 20 voters is taken, what is the chance that there are at least 5 undecided voters and at least 10 who have decided? You can assume that both u and d are greater than 20.\"**\n",
    "\n",
    "**The student shows the GSI the following answer and asks if it is right.**\n",
    "\n",
    "$$\\frac{\\sum_{k=5}^{20}\\binom{u}{k}\\binom{d}{20-k}}{\\binom{v}{20}} \\frac{\\sum_{k=10}^{20}\\binom{d}{k}\\binom{u}{20-k}}{\\binom{v}{20}} $$\n",
    "\n",
    "\n",
    "- **If the answer is right, explain the reasoning in detail, including all uses of distributions and the rules of probability.**\n",
    "- **If the answer is wrong, provide the right answer. Also say whether the student's answer is an overestimate or an underestimate, and provide an intuitive explanation.**"
   ]
  },
  {
   "cell_type": "markdown",
   "metadata": {},
   "source": [
    "** *After you are done with this question, check the walk-through video [here](https://berkeley.zoom.us/rec/play/DoIwvKYWIPZ6Ema-YlOG8Cky9GgPyu5zix73JFZvjqiHFl8ZGilqw2D10nQkGj_XTyh2ZLEZ9oL1h-tU.5CDSk4Tkm__T_BLy).* **"
   ]
  },
  {
   "cell_type": "markdown",
   "metadata": {},
   "source": [
    "## C. Related homework problems and chapter exercises"
   ]
  },
  {
   "cell_type": "markdown",
   "metadata": {},
   "source": [
    "- Homework 2: Q5 (a) (b)\n",
    "\n",
    "- Homework 3: Q2, Q4 (a)\n",
    "\n",
    "- Chapter 4: Q3\n",
    "\n",
    "- Chapter 6: Q2, Q10\n",
    "\n",
    "- Chapter 7: Q2, Q8\n"
   ]
  },
  {
   "cell_type": "markdown",
   "metadata": {},
   "source": [
    "**Answers to part A:**\n",
    "\n",
    "\n",
    "\n",
    "**1(a)** Binomial(1000, 0.005); Poisson(5)\n",
    "\n",
    "**1(b)** Poisson($\\frac{\\mu}{6}$), this is the exact distribution. \n",
    "\n",
    "**2(a)** Binomial(12, 1/4)\n",
    "\n",
    "**2(b)** Hypergeometric(52, 13, 12)\n",
    "\n",
    "**2(c)** Geometric(1/4)\n",
    "\n",
    "**2(d)** S, C, H, D are independent of each other. Each follows Poisson(3) distribution.\n",
    "\n",
    "\n"
   ]
  },
  {
   "cell_type": "code",
   "execution_count": null,
   "metadata": {},
   "outputs": [],
   "source": []
  }
 ],
 "metadata": {
  "kernelspec": {
   "display_name": "Python 3",
   "language": "python",
   "name": "python3"
  },
  "language_info": {
   "codemirror_mode": {
    "name": "ipython",
    "version": 3
   },
   "file_extension": ".py",
   "mimetype": "text/x-python",
   "name": "python",
   "nbconvert_exporter": "python",
   "pygments_lexer": "ipython3",
   "version": "3.6.2"
  }
 },
 "nbformat": 4,
 "nbformat_minor": 2
}
