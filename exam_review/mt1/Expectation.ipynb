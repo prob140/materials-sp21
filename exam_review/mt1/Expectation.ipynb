{
 "cells": [
  {
   "cell_type": "markdown",
   "metadata": {},
   "source": [
    "# Expectation Topical Review"
   ]
  },
  {
   "cell_type": "markdown",
   "metadata": {},
   "source": [
    "## A. Warm-up"
   ]
  },
  {
   "cell_type": "markdown",
   "metadata": {},
   "source": [
    "**1. Let $X$ follow the following distributions. Find $E[X]$**\n",
    "\n",
    "**(a)** $X \\sim \\text{poisson}(\\mu)$. \n",
    "\n",
    "**(b)** $X \\sim \\text{Hypergeometric}(N, G, n)$.\n",
    "\n",
    "**(c)** $X \\sim \\text{Geometric}(p)$. \n"
   ]
  },
  {
   "cell_type": "markdown",
   "metadata": {},
   "source": [
    "**2. A standard deck of cards has 52 cards. Xinran draws a hand of size 5. Let X be the number of Queen cards Xinran has. Find $E[X]$.** "
   ]
  },
  {
   "cell_type": "markdown",
   "metadata": {},
   "source": [
    "**3. Let $X_1, X_2, …, X_8$ be i.i.d. Uniform(0, 10). Let M denote the minimum value among them. Find P(M > 4), then find E[M] by tail sum.** "
   ]
  },
  {
   "cell_type": "markdown",
   "metadata": {},
   "source": [
    "__*After you are done with the warm-up questions, check the brief answers at the end of this page.*__"
   ]
  },
  {
   "cell_type": "markdown",
   "metadata": {},
   "source": [
    "## B. Exam-style questions"
   ]
  },
  {
   "cell_type": "markdown",
   "metadata": {},
   "source": [
    "**1. Let $X$ have the Poisson($\\mu$) distribution.**\n",
    "\n",
    "a) Find $E(\\frac{1}{X+1})$\n",
    "\n",
    "b) Find $E(\\frac{1}{X+2})$ [Hint: First simplify the difference $\\frac{1}{n+1} - \\frac{1}{n+2}$ for a non-negative integer $n$.]\n",
    "\n",
    "**Part a is the same as Question 1b on Homework 4. A written walk-through will be posted to Piazza on Thursday morning after the assignment deadline passes for all students.**"
   ]
  },
  {
   "cell_type": "markdown",
   "metadata": {},
   "source": [
    "**2. You see $N$ birds where $N$ has the Poisson(15) distribution. Each bird is green with chance 0.5, yellow with chance 0.25, purple with chance 0.15, and red with chance 0.1, independently of the number and colors of other birds.**\n",
    "\n",
    "a) Find the chance that you see at most three birds of each color\n",
    "\n",
    "b) Find the expected number of distinct colors of birds that you see.\n",
    "\n",
    "__*After you are done with this question, check the walk-through video [here](https://berkeley.zoom.us/rec/share/19l1I9RgoUl-hUBL-ET_Fh7hsP6QuqgPXr1kKZly_wqnKDIggMFJuOIBon4XgquM.OR6G5f2hJZXNuAt9). (Password: 7=e~P]89)*__"
   ]
  },
  {
   "cell_type": "markdown",
   "metadata": {},
   "source": [
    "## C. Related homework problems and chapter exercises"
   ]
  },
  {
   "cell_type": "markdown",
   "metadata": {},
   "source": [
    "- Homework 4: Q1-4\n",
    "- Chapter 8: Q2, Q4, Q6, Q13"
   ]
  },
  {
   "cell_type": "markdown",
   "metadata": {},
   "source": [
    "**Answers to part A:**\n",
    "\n",
    "\n",
    "**1.** We can read off the expecations from the properties of each of these named distributions.\n",
    "\n",
    "**(a)** $\\mu$\n",
    "\n",
    "**(b)** $n\\frac{G}{N}$\n",
    "\n",
    "**(c)** $\\frac{1}{p}$\n",
    "\n",
    "**2.** X is hypergeomtric with parameters N = 52, G = 4, n = 5. $E[X]= n\\frac{G}{N} = 5\\frac{4}{52}$. \n",
    "\n",
    "\n",
    "**3.** $P(M > 4) = (\\frac{11-4-1}{11})^{8} = (\\frac{6}{11})^{8}$\n",
    "\n",
    "$P(M > k) = (\\frac{11-k-1}{11})^{8}$\n",
    "\n",
    "$E(M) = \\sum_{k=0}^\\infty P(M > k) = \\sum_{k=0}^9 (\\frac{11-k-1}{11})^{8}$"
   ]
  }
 ],
 "metadata": {
  "kernelspec": {
   "display_name": "Python 3",
   "language": "python",
   "name": "python3"
  },
  "language_info": {
   "codemirror_mode": {
    "name": "ipython",
    "version": 3
   },
   "file_extension": ".py",
   "mimetype": "text/x-python",
   "name": "python",
   "nbconvert_exporter": "python",
   "pygments_lexer": "ipython3",
   "version": "3.7.9"
  }
 },
 "nbformat": 4,
 "nbformat_minor": 2
}
