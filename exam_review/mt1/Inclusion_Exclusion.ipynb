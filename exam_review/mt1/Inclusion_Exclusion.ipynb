{
 "cells": [
  {
   "cell_type": "markdown",
   "metadata": {},
   "source": [
    "# Inclusion-Exclusion Topical Review #"
   ]
  },
  {
   "cell_type": "markdown",
   "metadata": {},
   "source": [
    "## A. Warm-up"
   ]
  },
  {
   "cell_type": "markdown",
   "metadata": {},
   "source": [
    "**1. For the events $A_1, A_2, \\ldots, A_5$, consider $P\\left(\\bigcup_{i=1}^n A_i\\right)$ found using the inclusion-exclusion formula. You have no further information about these events.**\n",
    "\n",
    "**(a)** How many $P(A_i, A_j)$ terms ($i \\neq j$) are there in the formula from **(a)**?\n",
    "\n",
    "**(b)** How many $P(A_i, A_j, A_k)$ terms ($i$, $j$, $k$ all distinct) are there in the formula from **(a)**?"
   ]
  },
  {
   "cell_type": "markdown",
   "metadata": {},
   "source": [
    "**2. Four balls are thrown independently uniformly at random into four boxes. Find the chance that none of the boxes are empty.**\n"
   ]
  },
  {
   "cell_type": "markdown",
   "metadata": {},
   "source": [
    "**3. A population contains $w$ women, $m$ men, and $k$ kids. Let $t = w + m + k$**.\n",
    "\n",
    "**(a)** What is a simple random sample? \n",
    "\n",
    "**(b)** If Anna draws a simple random sample of size $n$ from the population, what is the chance that the sample does not contain all three categories? [Refer to Homework 2, Q3(b)] \n"
   ]
  },
  {
   "cell_type": "markdown",
   "metadata": {},
   "source": [
    "After you are done with the warm-up question, check the brief answers at the end of this page."
   ]
  },
  {
   "cell_type": "markdown",
   "metadata": {},
   "source": [
    "## B. Exam-style question"
   ]
  },
  {
   "cell_type": "markdown",
   "metadata": {},
   "source": [
    "**A breakfast cereal company puts one of 10 kinds of plastic animals in each box\n",
    "of its cereal. Each of the 10 is a distinct species of animal, including a wombat.\n",
    "I have 20 boxes of the cereal. Assume that each box is equally likely to contain\n",
    "any of the 10 animals, independent of the other boxes.**\n",
    "\n",
    "What is the chance that my boxes don't contain all 10 different animals?"
   ]
  },
  {
   "cell_type": "markdown",
   "metadata": {},
   "source": [
    "After you are done with this question, check the walk-through video [here](https://berkeley.zoom.us/rec/play/XNpYJGuxq6uACVo3VHM1yEAE-GBqM9Pp5aQA5II64YqIZ_sgPqveJZ7h2DGUc_T1qyo7cay4pV9n2ilz.celIE8GtI3hj_F6U). "
   ]
  },
  {
   "cell_type": "markdown",
   "metadata": {},
   "source": [
    "## C. Related homework problems and chapter exercises\n"
   ]
  },
  {
   "cell_type": "markdown",
   "metadata": {},
   "source": [
    "- Homework 1: Q3 (b)\n",
    "\n",
    "- Homework 2: Q3, Q5 (c) \n",
    "\n",
    "- Homework 4: Q5\n",
    "\n",
    "- Chapter 5: Q10, Q12\n"
   ]
  },
  {
   "cell_type": "markdown",
   "metadata": {},
   "source": [
    "**Answers to part A:**\n",
    "\n",
    "**1(a)** $\\displaystyle \\binom{5}{2}$\n",
    "\n",
    "**1(b)** $\\displaystyle \\binom{5}{3}$\n",
    "\n",
    "**2** $\\displaystyle P(\\text{none empty}) = 1-\\binom{4}{1}\\cdot \\left(\\frac{3}{4}\\right)^4 + \\binom{4}{2}\\cdot \\left(\\frac{2}{4}\\right)^4 - \\binom{4}{3}\\cdot \\left(\\frac{1}{4}\\right)^4 =\\frac{3}{32}$\n",
    "\n",
    "**3(a)** A sample by drawing individuals uniformly without replacement. Each simple random sample for a given sample size is equally likely.\n",
    "\n",
    "**3(b)** $\\displaystyle \\frac{w+k\\choose n}{t\\choose n} + \\frac{m+k\\choose n}{t\\choose n} + \\frac{w+m\\choose n}{t \\choose n} - \\frac{k\\choose n}{t \\choose n} - \\frac{w\\choose n}{t \\choose n} - \\frac{m\\choose n}{t \\choose n}$"
   ]
  }
 ],
 "metadata": {
  "kernelspec": {
   "display_name": "Python 3",
   "language": "python",
   "name": "python3"
  },
  "language_info": {
   "codemirror_mode": {
    "name": "ipython",
    "version": 3
   },
   "file_extension": ".py",
   "mimetype": "text/x-python",
   "name": "python",
   "nbconvert_exporter": "python",
   "pygments_lexer": "ipython3",
   "version": "3.6.2"
  }
 },
 "nbformat": 4,
 "nbformat_minor": 2
}
