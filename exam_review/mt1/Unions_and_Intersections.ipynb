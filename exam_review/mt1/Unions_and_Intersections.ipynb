{
 "cells": [
  {
   "cell_type": "markdown",
   "metadata": {},
   "source": [
    "# Union & Intersection Topical Review"
   ]
  },
  {
   "cell_type": "markdown",
   "metadata": {},
   "source": [
    "## A. Warm-up"
   ]
  },
  {
   "cell_type": "markdown",
   "metadata": {},
   "source": [
    "**1. Ryan rolls a die 10 times. Identify which of the following events are complements of one another.**\n",
    "\n",
    "**(i)** All six faces appear. \n",
    "\n",
    "**(ii)** None of the six faces appear.\n",
    "\n",
    "**(iii)** At least one face doesn’t appear. \n",
    "\n",
    "**(iv)** Only one face appears. \n",
    "\n",
    "**(v)** Not all six faces appear. "
   ]
  },
  {
   "cell_type": "markdown",
   "metadata": {},
   "source": [
    "**2. Ryan rolls a die 10 times. Define the following events by defining simpler events and specifying operations on them.**\n",
    "\n",
    "**(a)** All six faces appear. \n",
    "\n",
    "**(b)** Not all six faces appear. "
   ]
  },
  {
   "cell_type": "markdown",
   "metadata": {},
   "source": [
    "**3. University of California at Zoom offers five majors. The percentage of students in each major is shown below:** \n",
    "\n",
    "| Biology | Comparative Literature | Computer Science | Data Science | Sociology |\n",
    "|:---:|:---:|:---:|:---:|:---:|\n",
    "| 35% | 15% | 30% | 25% | 25% |\n",
    "\n",
    "Students may take any number of majors as they’d like to. Find the exact value of the probability that a student picked at random is a quintuple major (i.e. takes all five majors) if it is possible to do so with the information given. If it is not possible, provide the best lower and upper bounds you can."
   ]
  },
  {
   "cell_type": "markdown",
   "metadata": {},
   "source": [
    "__*After you are done with the warm-up questions, check the brief answers at the end of this page.*__"
   ]
  },
  {
   "cell_type": "markdown",
   "metadata": {},
   "source": [
    "## B. Exam-style question"
   ]
  },
  {
   "cell_type": "markdown",
   "metadata": {},
   "source": [
    "**In 2018, the most common social media platforms used by U.S. teens were YouTube, Instagram, and Snapchat.**\n",
    "\n",
    "- 85% used YouTube\n",
    "\n",
    "- 72% used Instagram\n",
    "\n",
    "- 69% used Snapchat\n",
    "\n",
    "Suppose a U.S. teen was picked at random in 2018. Find, approximate, or bound the probability that the teen used all three of YouTube, Instagram, and Snapchat. Do the best that is possible with the information given. If you decide to bound, please provide both lower and upper bounds."
   ]
  },
  {
   "cell_type": "markdown",
   "metadata": {},
   "source": [
    "__*After you are done with this question, check the walk-through video [here](https://berkeley.zoom.us/rec/share/RRJXHbSInmfKuzu0RDTBxdV3ql6TbJIBKFutMSBbkYBXxpkzhIeRDLo47KTm2LpU.Tm24cDhLA6I-G2OJ?startTime=1613425902000).*__"
   ]
  },
  {
   "cell_type": "markdown",
   "metadata": {},
   "source": [
    "## C. Related homework problems and chapter exercises"
   ]
  },
  {
   "cell_type": "markdown",
   "metadata": {},
   "source": [
    "- Homework 2: Q3, Q4\n",
    "\n",
    "- Chapter 5: Q1\n"
   ]
  },
  {
   "cell_type": "markdown",
   "metadata": {},
   "source": [
    "**Answers to part A:**\n",
    "\n",
    "\n",
    "**1** The events **(i)** and **(iii)** are complements, as are the events **(i)** and **(v)**. The events **(iii)** and **(v)** are the same.\n",
    "\n",
    "**2** Let $F_i = \\{\\text{the } i \\text{th face appears}\\}$ for $i \\in \\{1, \\ldots 6\\}$. \n",
    "\n",
    "**(a)** $\\displaystyle \\bigcap_{i=1}^6 F_i$.\n",
    "\n",
    "**(b)** $\\displaystyle \\bigcup_{i=1}^6 F_i^c$.\n",
    "\n",
    "\n",
    "**3** The chance is at least 0\\% and at most 15\\%."
   ]
  }
 ],
 "metadata": {
  "kernelspec": {
   "display_name": "Python 3",
   "language": "python",
   "name": "python3"
  },
  "language_info": {
   "codemirror_mode": {
    "name": "ipython",
    "version": 3
   },
   "file_extension": ".py",
   "mimetype": "text/x-python",
   "name": "python",
   "nbconvert_exporter": "python",
   "pygments_lexer": "ipython3",
   "version": "3.7.4"
  }
 },
 "nbformat": 4,
 "nbformat_minor": 2
}
