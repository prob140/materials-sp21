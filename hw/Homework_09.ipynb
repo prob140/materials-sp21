{
 "cells": [
  {
   "cell_type": "markdown",
   "metadata": {
    "#solution": false,
    "#staff": false,
    "#student": false,
    "id": "muUr4oHNCptF"
   },
   "source": [
    "<table align=\"left\" style=\"border-style: hidden\" class=\"table\"> <tr><td class=\"col-md-2\"><img style=\"float\" src=\"../icon_sp21.png\" alt=\"Prob140 Logo\" style=\"width: 120px;\"/></td><td><div align=\"left\"><h3 style=\"margin-top: 0;\">Probability for Data Science</h3><h4 style=\"margin-top: 20px;\">UC Berkeley, Spring 2021</h4><p>Ani Adhikari</p>CC BY-NC 4.0</div></td></tr></table><!-- not in pdf -->\n",
    "\n",
    "This content is protected and may not be shared, uploaded, or distributed."
   ]
  },
  {
   "cell_type": "markdown",
   "metadata": {
    "#solution": false,
    "#staff": false,
    "#student": false,
    "id": "4r-vItY0CptL"
   },
   "source": [
    "# Homework 9"
   ]
  },
  {
   "cell_type": "markdown",
   "metadata": {
    "#solution": false,
    "#staff": false,
    "#student": false,
    "id": "OroIqqZQCptM"
   },
   "source": [
    "### Instructions\n",
    "\n",
    "Your homeworks have two components: a written portion and a portion that also involves code.  Written work should be completed on paper, and coding questions should be done in the notebook.  You are welcome to $\\LaTeX$ your answers to the written portions, but staff will not be able to assist you with $\\LaTeX$ related issues. It is your responsibility to ensure that both components of the homework are submitted completely and properly to Gradescope. **Make sure to assign each page of your pdf to the correct question.** Refer to the bottom of the notebook for submission instructions."
   ]
  },
  {
   "cell_type": "code",
   "execution_count": null,
   "metadata": {
    "#solution": false,
    "#staff": false,
    "#student": false,
    "id": "5P9hpfn3CptM"
   },
   "outputs": [],
   "source": [
    "# HIDDEN\n",
    "import warnings\n",
    "warnings.filterwarnings('ignore')\n",
    "from datascience import *\n",
    "from prob140 import *\n",
    "import numpy as np\n",
    "from scipy import stats\n",
    "import matplotlib.pyplot as plt\n",
    "plt.style.use('fivethirtyeight')\n",
    "%matplotlib inline"
   ]
  },
  {
   "cell_type": "markdown",
   "metadata": {
    "#solution": false,
    "#staff": false,
    "#student": false,
    "id": "i0hQFo90CptN"
   },
   "source": [
    "## 1. Peter Meets Paul ##\n",
    "Peter and Paul agree to meet at a restaurant at noon. Peter arrives at time normally distributed with mean 12:00 noon and SD 5 minutes. Paul arrives at a time normally distributed with mean 12:02 P.M. and SD 3 minutes. \n",
    "\n",
    "Find the chances below assuming that the two arrival times are independent. First, write a formula for the chance in terms of the standard normal cdf $\\Phi$. Then use a code cell to find the numerical value. You do not have to turn in any coding work for this question.\n",
    "\n",
    "**a)** $P(\\text{Peter arrives before Paul})$\n",
    "\n",
    "**b)** $P(\\text{both men arrive within 3 minutes of noon})$\n",
    "\n",
    "**c)** $P(\\text{the two men arrive within 3 minutes of each other})$\n"
   ]
  },
  {
   "cell_type": "code",
   "execution_count": null,
   "metadata": {
    "#solution": false,
    "#staff": false,
    "#student": true,
    "id": "5EPNnuDHCptO"
   },
   "outputs": [],
   "source": [
    "# Calculation for 1a\n",
    "..."
   ]
  },
  {
   "cell_type": "code",
   "execution_count": null,
   "metadata": {
    "#solution": false,
    "#staff": false,
    "#student": true,
    "id": "TyOQN2NlCptO"
   },
   "outputs": [],
   "source": [
    "# Calculation for 1b\n",
    "..."
   ]
  },
  {
   "cell_type": "code",
   "execution_count": null,
   "metadata": {
    "#solution": false,
    "#staff": false,
    "#student": true,
    "id": "siy60fMMCptP"
   },
   "outputs": [],
   "source": [
    "# Calculation for 1c\n",
    "..."
   ]
  },
  {
   "cell_type": "markdown",
   "metadata": {
    "#solution": false,
    "#staff": false,
    "#student": false,
    "id": "50EwrN4oCptP"
   },
   "source": [
    "#newpage"
   ]
  },
  {
   "cell_type": "markdown",
   "metadata": {
    "#solution": false,
    "#staff": false,
    "#student": false,
    "id": "1gQGIKSwCptP"
   },
   "source": [
    "## 2. Rayleigh Facts and an Application ##\n",
    "\n",
    "Let $R$ have the Rayleigh density given by $f(r) ~ = ~ re^{-\\frac{1}{2}r^2}$ for $r > 0$.\n",
    "\n",
    "Refer to [Section 18.1](http://prob140.org/textbook/content/Chapter_18/01_Standard_Normal_Basics.html#variance) and [Section 18.4](http://prob140.org/textbook/content/Chapter_18/04_Chi_Squared_Distributions.html#from-chi-squared-1-to-chi-squared-n) for ways in which this density arises.\n",
    "\n",
    "The point of Parts **a** and **b** is for you *not to reinvent wheels*, and also for you to notice that math calculation can be reduced by using probability facts. The probabilistic approach to math is becoming increasingly important even in research. So follow the approach in the instructions; we will not give credit for other approaches. \n",
    "\n",
    "**a)** Let $Z$ be standard normal. Use the expectation and variance of $Z$ to find $E(R)$ without any further integration.\n",
    "\n",
    "**b)** Use properties of $R^2$ to find $E(R^2)$ without any further integration, and hence find $Var(R)$.\n",
    "\n",
    "**c)** Suppose two shots are fired at a target. Assume each shot hits with independent normally distributed coordinates, with the same means and equal unit variances. Let $D$ be the distance between the point where the two shots strike. Find $E(D)$ and $Var(D)$.\n",
    "\n",
    "[Your calculations will go faster if you remember that a normal $(0, \\sigma^2)$ variable can be written as $\\sigma Z$ where $Z$ is standard normal, and if you use Parts **a-b**.]"
   ]
  },
  {
   "cell_type": "markdown",
   "metadata": {
    "#solution": false,
    "#staff": false,
    "#student": false,
    "id": "5MimkYFnCptQ"
   },
   "source": [
    "#newpage"
   ]
  },
  {
   "cell_type": "markdown",
   "metadata": {
    "#solution": false,
    "#staff": false,
    "#student": false,
    "id": "NuLalJ02CptQ"
   },
   "source": [
    "## 3. Gamma Tail Bound ##\n",
    "\n",
    "Before you do this exercise, carefully study a [relevant example](http://prob140.org/textbook/content/Chapter_19/04_Chernoff_Bound.html#application-to-the-normal-distribution) in the textbook. You will also need the [mgf of the gamma distribution](http://prob140.org/textbook/content/Chapter_19/02_Moment_Generating_Functions.html#mgf-of-a-gamma-r-lambda-random-variable).\n",
    "\n",
    "Let $X$ have the gamma $(r, \\lambda)$ distribution. \n",
    "\n",
    "**a)** Show that $P(X \\ge 2E(X)) \\le \\left(\\frac{2}{e}\\right)^r$.\n",
    "\n",
    "[Remember that if $h$ is a positive function of $x$, then the value of $x$ that minimizes $h$ is the same as the value of $x$ that minimizes $\\log(h)$.]\n",
    "\n",
    "**b) [CODE]** Fix $\\lambda = 1$. Display overlaid plots of the following three graphs as functions of $r$, for $r$ in the interval $(0.5, 15)$ :\n",
    "\n",
    "- $P(X \\ge 2E(X))$\n",
    "- $\\left(\\frac{2}{e}\\right)^r$\n",
    "- Markov's bound on $P(X \\ge 2E(X))$\n",
    "\n",
    "The code uses `plt.plot` which you have used before. The expression `stats.gamma.cdf(x, r, scale=1)` evaluates to the cdf of the gamma $(r, 1)$ distribution at the point $x$."
   ]
  },
  {
   "cell_type": "code",
   "execution_count": null,
   "metadata": {
    "#solution": false,
    "#staff": false,
    "#student": true,
    "id": "Id76SRABCptR"
   },
   "outputs": [],
   "source": [
    "# Answer to 3b\n",
    "r = np.arange(0.05, 15, 0.1) \n",
    "\n",
    "markov_bound = ...\n",
    "\n",
    "part_a_bound = ...\n",
    "\n",
    "exact = ...\n",
    "...\n",
    "\n",
    "plt.plot(r, exact, lw=2, label='Exact Chance')\n",
    "plt.plot(r, part_a_bound, lw=2, label='Part (a) Bound')\n",
    "plt.plot(r, markov_bound, lw=2, label='Markov Bound')\n",
    "plt.legend()\n",
    "plt.xlabel('$r$')\n",
    "plt.xlim(0, 15);"
   ]
  },
  {
   "cell_type": "markdown",
   "metadata": {
    "#solution": false,
    "#staff": false,
    "#student": false,
    "id": "BnVU--bTCptS"
   },
   "source": [
    "#newpage"
   ]
  },
  {
   "cell_type": "markdown",
   "metadata": {
    "#solution": false,
    "#staff": false,
    "#student": false,
    "id": "5yTCafK2CptS"
   },
   "source": [
    "## 4. MLE of the Exponential Rate ##\n",
    "For $n > 1$, let $X_1, X_2, \\ldots , X_n$ be i.i.d. exponential $(\\lambda )$ variables. \n",
    "\n",
    "**a)** Let $\\hat{\\lambda}_n$ be the maximum likelihood estimate (MLE) of the parameter $\\lambda$. Find $\\hat{\\lambda}_n$ in terms of the sample mean $\\bar{X}_n = \\frac{1}{n} \\sum_{i=1}^n X_i$. The subscript $n$ in $\\bar{X}_n$ is there to remind us that we have the average of $n$ values. It doesn't refer to the $n$th sampled value $X_n$.\n",
    "\n",
    "**b)** Use facts about sums and linear transformations to find the distribution of $\\bar{X}_n$ with little or no calculation. Recognize it as one of the famous ones and provide its name and parameters. Use it to find $E(\\hat{\\lambda}_n)$.\n",
    "\n",
    "**c)** Is $\\hat{\\lambda}_n$ an unbiased estimate of $\\lambda$? If it is biased, does it overestimate on average, or does it underestimate? Is it asymptotically unbiased? That is, does $E(\\hat{\\lambda}_n)$ converge to $\\lambda$ as $n \\to \\infty$?"
   ]
  },
  {
   "cell_type": "markdown",
   "metadata": {
    "#solution": false,
    "#staff": false,
    "#student": false,
    "id": "gzib3IUbCptT"
   },
   "source": [
    "#newpage"
   ]
  },
  {
   "cell_type": "markdown",
   "metadata": {
    "#solution": false,
    "#staff": false,
    "#student": false,
    "id": "9DieAf3tCptT"
   },
   "source": [
    "## 5. MLE and MAP Estimates ##\n",
    "\n",
    "The coin is tossed 10 times and the resulting sequence is HTTHHHTHTH. In the parts below, we refer to this information as \"the data\".\n",
    "\n",
    "**a)** Under the assumption that the coin lands heads with a fixed unknown probability $p$, find the MLE of $p$ based on the data. \n",
    "\n",
    "**b)** Suppose now that the coin lands heads with a random probability $X$. Let the prior density of $X$ be uniform on the unit interval. Find the MAP estimate of the probability of heads, given the data.\n",
    "\n",
    "**c)** Show that if $r > 1$ and $s > 1$ then the mode of the beta $(r, s)$  distribution is $(r-1)/(r+s-2)$. Remember to ignore multiplicative constants and take the log before maximizing.\n",
    "\n",
    "**d)** Suppose instead that the prior density of $X$ is $f(x) = 4x^3$ if $0 < x < 1$ and $0$ otherwise. Find the MAP estimate of the probability of heads, given the data."
   ]
  },
  {
   "cell_type": "markdown",
   "metadata": {
    "#solution": false,
    "#staff": false,
    "#student": false,
    "id": "QmJypRRDCptU"
   },
   "source": [
    "#newpage"
   ]
  },
  {
   "cell_type": "markdown",
   "metadata": {
    "#solution": false,
    "#staff": false,
    "#student": false,
    "id": "Mq-w-fV9CptU"
   },
   "source": [
    "## Submission Instructions ##\n",
    "\n",
    "Many assignments throughout the course will have a written portion and a code portion. Please follow the directions below to properly submit both portions.\n",
    "\n",
    "### Written Portion ###\n",
    "*  Scan all the pages into a PDF. You can use any scanner or a phone using an application. Please **DO NOT** simply take pictures using your phone. \n",
    "* Please start a new page for each question. If you have already written multiple questions on the same page, you can crop the image or fold your page over (the old-fashioned way). This helps expedite grading.\n",
    "* It is your responsibility to check that all the work on all the scanned pages is legible.\n",
    "* If you used $\\LaTeX$ to do the written portions, you do not need to do any scanning; you can just download the whole notebook as a PDF via LaTeX.\n",
    "\n",
    "### Code Portion ###\n",
    "* Save your notebook using File > Save and Checkpoint.\n",
    "* Generate a PDF file using File > Download as > PDF via LaTeX. This might take a few seconds and will automatically download a PDF version of this notebook.\n",
    "    * If you have issues, please make a follow-up post on the general Homework 9 Piazza thread.\n",
    "    \n",
    "### Submitting ###\n",
    "* Combine the PDFs from the written and code portions into one PDF.  [Here](https://smallpdf.com/merge-pdf) is a useful tool for doing so. \n",
    "* Submit the assignment to Homework 9 on Gradescope. \n",
    "* **Make sure to assign each page of your pdf to the correct question.**\n",
    "* **It is your responsibility to verify that all of your work shows up in your final PDF submission.**\n",
    "\n",
    "\n",
    "### **We will not grade assignments which do not have pages selected for each question.** "
   ]
  }
 ],
 "metadata": {
  "anaconda-cloud": {},
  "checksums": [
   "471d093723ff61489b86e22e2623154b",
   "7a0b0bd15911c0d2f5c2ec7bc5d5dc2f",
   "0350987bcbc0b4e3840dce42e8623734",
   "61e7afb238783fe75a174e4836691093",
   "555a0bedfac8c958560d2f393fb2d21d",
   "9ff6aebcc8146b47452c5d943df5ac3b",
   "62916d45e4328e56adf3f555e71e3bfb",
   "ff4f181f122a55e1b05f50467f6fb574",
   "640061103a186fd26f59746dd4d6de57",
   "67f89c665f971855526f6ae6f7a87a4c",
   "640061103a186fd26f59746dd4d6de57",
   "a799e5eee55fa2953a3a1774dc059e17",
   "38958d4f2f1b10d5b7e9af00201ad451",
   "640061103a186fd26f59746dd4d6de57",
   "4eb41b40b55ad44a2845afcaf6788bfe",
   "640061103a186fd26f59746dd4d6de57",
   "aea9f4b5683367852166c1cf78444165",
   "640061103a186fd26f59746dd4d6de57",
   "846e25ec24493066091df2624216d9a2"
  ],
  "colab": {
   "name": "Homework_09.ipynb",
   "provenance": []
  },
  "kernelspec": {
   "display_name": "Python 3",
   "language": "python",
   "name": "python3"
  },
  "language_info": {
   "codemirror_mode": {
    "name": "ipython",
    "version": 3
   },
   "file_extension": ".py",
   "mimetype": "text/x-python",
   "name": "python",
   "nbconvert_exporter": "python",
   "pygments_lexer": "ipython3",
   "version": "3.8.3"
  },
  "number_of_pagebreaks": 5
 },
 "nbformat": 4,
 "nbformat_minor": 0
}
